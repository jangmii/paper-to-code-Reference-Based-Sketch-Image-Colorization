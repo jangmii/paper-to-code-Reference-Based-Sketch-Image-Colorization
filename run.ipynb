<<<<<<< HEAD
{"nbformat":4,"nbformat_minor":0,"metadata":{"colab":{"name":"run.ipynb","provenance":[],"collapsed_sections":[],"mount_file_id":"1N3tTtc2784W0e3I2lhygkqznxSour5TH","authorship_tag":"ABX9TyNWb1mjM5pgqp2nfomLWf3R"},"kernelspec":{"name":"python3","display_name":"Python 3"},"language_info":{"name":"python"}},"cells":[{"cell_type":"code","metadata":{"colab":{"base_uri":"https://localhost:8080/"},"id":"kH9Jb-n7gh8t","executionInfo":{"status":"ok","timestamp":1631425022039,"user_tz":-540,"elapsed":4858,"user":{"displayName":"장미","photoUrl":"https://lh3.googleusercontent.com/a-/AOh14Gh8vmABvWOSNvDaeVIMBgI8JCXrKrrNFVpOoYy7=s64","userId":"15860598069959026002"}},"outputId":"ee194141-fe2b-4433-a9af-67e9cf3eb51a"},"source":["!pip install tps"],"execution_count":2,"outputs":[{"output_type":"stream","name":"stdout","text":["Collecting tps\n","  Downloading tps-0.0.2.tar.gz (3.8 kB)\n","Building wheels for collected packages: tps\n","  Building wheel for tps (setup.py) ... \u001b[?25l\u001b[?25hdone\n","  Created wheel for tps: filename=tps-0.0.2-py3-none-any.whl size=4770 sha256=4dd28337ae675d4350cae4df8671203843419378e357f8571bbc6f9a40f2e199\n","  Stored in directory: /root/.cache/pip/wheels/a2/bf/3f/fd74da6af3dffc80731bb0b37b858bd86fdefa74b08b6bdeb1\n","Successfully built tps\n","Installing collected packages: tps\n","Successfully installed tps-0.0.2\n"]}]},{"cell_type":"code","metadata":{"colab":{"base_uri":"https://localhost:8080/"},"id":"LKjrIjgteVvQ","outputId":"cf26f759-a872-4031-ab80-28ad3c87847d"},"source":["!python /content/drive/MyDrive/paper-to-code-Reference-Based-Sketch-Image-Colorization-master/main.py --mode train --train_data_dir /content/drive/MyDrive/paper-to-code-Reference-Based-Sketch-Image-Colorization-master/pokemon"],"execution_count":null,"outputs":[{"output_type":"stream","name":"stdout","text":["\n","\n","\n","----------------------------------------\n","            PARAMETER TABLES            \n","----------------------------------------\n","batch_size :                         1\n","beta1 :                            0.5\n","beta2 :                          0.999\n","lr_d :                          0.0002\n","lr_g :                          0.0001\n","mode :                           train\n","num_epoch :                        200\n","train_continue :                   off\n","train_data_dir : /content/drive/MyDrive/paper-to-code-Reference-Based-Sketch-Image-Colorization-master/pokemon\n","triplet_margin :                    12\n","----------------------------------------\n","\n","\n","\n","initialize network with normal\n","initialize network with normal\n","/usr/local/lib/python3.7/dist-packages/torch/nn/functional.py:718: UserWarning: Named tensors and all their associated APIs are an experimental feature and subject to change. Please do not use them for anything important until they are released as stable. (Triggered internally at  /pytorch/c10/core/TensorImpl.h:1156.)\n","  return torch.max_pool2d(input, kernel_size, stride, padding, dilation, ceil_mode)\n"]}]},{"cell_type":"code","metadata":{"id":"1SHlcVCMhZ9u"},"source":[""],"execution_count":null,"outputs":[]}]}
=======
{
  "nbformat": 4,
  "nbformat_minor": 0,
  "metadata": {
    "colab": {
      "name": "run.ipynb",
      "provenance": [],
      "collapsed_sections": [],
      "mount_file_id": "1N3tTtc2784W0e3I2lhygkqznxSour5TH",
      "authorship_tag": "ABX9TyNWb1mjM5pgqp2nfomLWf3R",
      "include_colab_link": true
    },
    "kernelspec": {
      "name": "python3",
      "display_name": "Python 3"
    },
    "language_info": {
      "name": "python"
    }
  },
  "cells": [
    {
      "cell_type": "markdown",
      "metadata": {
        "id": "view-in-github",
        "colab_type": "text"
      },
      "source": [
        "<a href=\"https://colab.research.google.com/github/jangmii/paper-to-code-Reference-Based-Sketch-Image-Colorization/blob/master/run.ipynb\" target=\"_parent\"><img src=\"https://colab.research.google.com/assets/colab-badge.svg\" alt=\"Open In Colab\"/></a>"
      ]
    },
    {
      "cell_type": "code",
      "metadata": {
        "colab": {
          "base_uri": "https://localhost:8080/"
        },
        "id": "kH9Jb-n7gh8t",
        "outputId": "ee194141-fe2b-4433-a9af-67e9cf3eb51a"
      },
      "source": [
        "!pip install tps"
      ],
      "execution_count": 2,
      "outputs": [
        {
          "output_type": "stream",
          "name": "stdout",
          "text": [
            "Collecting tps\n",
            "  Downloading tps-0.0.2.tar.gz (3.8 kB)\n",
            "Building wheels for collected packages: tps\n",
            "  Building wheel for tps (setup.py) ... \u001b[?25l\u001b[?25hdone\n",
            "  Created wheel for tps: filename=tps-0.0.2-py3-none-any.whl size=4770 sha256=4dd28337ae675d4350cae4df8671203843419378e357f8571bbc6f9a40f2e199\n",
            "  Stored in directory: /root/.cache/pip/wheels/a2/bf/3f/fd74da6af3dffc80731bb0b37b858bd86fdefa74b08b6bdeb1\n",
            "Successfully built tps\n",
            "Installing collected packages: tps\n",
            "Successfully installed tps-0.0.2\n"
          ]
        }
      ]
    },
    {
      "cell_type": "code",
      "metadata": {
        "colab": {
          "base_uri": "https://localhost:8080/"
        },
        "id": "LKjrIjgteVvQ",
        "outputId": "cf26f759-a872-4031-ab80-28ad3c87847d"
      },
      "source": [
        "!python /content/drive/MyDrive/paper-to-code-Reference-Based-Sketch-Image-Colorization-master/main.py --mode train --train_data_dir /content/drive/MyDrive/paper-to-code-Reference-Based-Sketch-Image-Colorization-master/pokemon"
      ],
      "execution_count": null,
      "outputs": [
        {
          "output_type": "stream",
          "name": "stdout",
          "text": [
            "\n",
            "\n",
            "\n",
            "----------------------------------------\n",
            "            PARAMETER TABLES            \n",
            "----------------------------------------\n",
            "batch_size :                         1\n",
            "beta1 :                            0.5\n",
            "beta2 :                          0.999\n",
            "lr_d :                          0.0002\n",
            "lr_g :                          0.0001\n",
            "mode :                           train\n",
            "num_epoch :                        200\n",
            "train_continue :                   off\n",
            "train_data_dir : /content/drive/MyDrive/paper-to-code-Reference-Based-Sketch-Image-Colorization-master/pokemon\n",
            "triplet_margin :                    12\n",
            "----------------------------------------\n",
            "\n",
            "\n",
            "\n",
            "initialize network with normal\n",
            "initialize network with normal\n",
            "/usr/local/lib/python3.7/dist-packages/torch/nn/functional.py:718: UserWarning: Named tensors and all their associated APIs are an experimental feature and subject to change. Please do not use them for anything important until they are released as stable. (Triggered internally at  /pytorch/c10/core/TensorImpl.h:1156.)\n",
            "  return torch.max_pool2d(input, kernel_size, stride, padding, dilation, ceil_mode)\n"
          ]
        }
      ]
    },
    {
      "cell_type": "code",
      "metadata": {
        "id": "1SHlcVCMhZ9u"
      },
      "source": [
        ""
      ],
      "execution_count": null,
      "outputs": []
    }
  ]
}
>>>>>>> 73b4d5ec62ed0f5edfa13ae9d5216662ea41b8b9
